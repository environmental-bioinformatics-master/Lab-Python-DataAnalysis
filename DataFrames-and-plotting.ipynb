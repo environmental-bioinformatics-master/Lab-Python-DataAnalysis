{
 "cells": [
  {
   "cell_type": "code",
   "execution_count": null,
   "metadata": {},
   "outputs": [],
   "source": [
    "import pandas as pd\n",
    "import matplotlib.pyplot as plt\n",
    "import seaborn as sns\n",
    "import random\n",
    "import numpy as np"
   ]
  },
  {
   "cell_type": "markdown",
   "metadata": {},
   "source": [
    "## What is a dataframe? \n",
    "A DataFrame is a data structure that can store a variety of data types (e.g. numeric (integers and floats), strings, objects, and more!) in a 2D structre (rows by columns). It is similar to a spreadsheet or an SQL table or the data.frame in R. A DataFrame always has an index (0-based). An index refers to the position of an element in the data structure."
   ]
  },
  {
   "cell_type": "markdown",
   "metadata": {},
   "source": [
    "# Load in pandas data\n",
    "\n",
    "First let's start off looking at something we are familar with. Codon tables! "
   ]
  },
  {
   "cell_type": "code",
   "execution_count": null,
   "metadata": {},
   "outputs": [],
   "source": [
    "codon_df = pd.read_csv('data/codon-tables/std-code.tab', sep=' ', index_col='codon')"
   ]
  },
  {
   "cell_type": "code",
   "execution_count": null,
   "metadata": {},
   "outputs": [],
   "source": [
    "codon_df"
   ]
  },
  {
   "cell_type": "markdown",
   "metadata": {},
   "source": [
    "There are many ways to summarize and access the data stored in DataFrames-- pandas has a variety of associated `attirbutes` and `methods`. \n",
    "\n",
    "An `attribute` is a value or characteristic that is associated with the data-- think of it as a variable that is stored within an object (dataframe in this case). A `method` is a set of instructions or functions associated with an object. \n",
    "\n",
    "To access an `attribute`, use the DataFrame object name followed by the attribute. Using the DataFrame `codon_df` and attribute `columns`, to get an index of all the column names in the DataFrame can be accessed with `codon_df.columns`."
   ]
  },
  {
   "cell_type": "code",
   "execution_count": null,
   "metadata": {},
   "outputs": [],
   "source": [
    "codon_df.index"
   ]
  },
  {
   "cell_type": "code",
   "execution_count": null,
   "metadata": {},
   "outputs": [],
   "source": [
    "codon_df.columns"
   ]
  },
  {
   "cell_type": "markdown",
   "metadata": {},
   "source": [
    "Pandas data frames are rather like data tables in `R` and information can be selected from them based on index or column values. "
   ]
  },
  {
   "cell_type": "markdown",
   "metadata": {},
   "source": [
    "We can then use these `attributes` to retrieve the data in the dataframe using `.loc`. "
   ]
  },
  {
   "cell_type": "code",
   "execution_count": null,
   "metadata": {},
   "outputs": [],
   "source": [
    "codon_df.loc['AAT']"
   ]
  },
  {
   "cell_type": "code",
   "execution_count": null,
   "metadata": {},
   "outputs": [],
   "source": [
    "codon_df.loc['AAT', 'aa1']"
   ]
  },
  {
   "cell_type": "code",
   "execution_count": null,
   "metadata": {},
   "outputs": [],
   "source": [
    "codon_df.loc['AAT', 'aa3']"
   ]
  },
  {
   "cell_type": "code",
   "execution_count": null,
   "metadata": {},
   "outputs": [],
   "source": [
    "codon_df.loc[:, 'aa3']"
   ]
  },
  {
   "cell_type": "code",
   "execution_count": null,
   "metadata": {},
   "outputs": [],
   "source": [
    "codon_df.loc[['AAT','GGG'], 'aa3']"
   ]
  },
  {
   "cell_type": "markdown",
   "metadata": {},
   "source": [
    "\n",
    "\n",
    "Methods are called in a similar fashion using the syntax `df_object.method()`-- but the paraentheses are required. As an example, `surveys_df.head()` gets the first few rows in the DataFrame `codon_df` using the `head()` method. With a method, we can supply extra information in the parens to control behavior -- fo example: pass `n=100` to head to get more lines. "
   ]
  },
  {
   "cell_type": "code",
   "execution_count": null,
   "metadata": {},
   "outputs": [],
   "source": [
    "help(codon_df.head())"
   ]
  },
  {
   "cell_type": "code",
   "execution_count": null,
   "metadata": {},
   "outputs": [],
   "source": [
    "codon_df.head(n=100)"
   ]
  },
  {
   "cell_type": "markdown",
   "metadata": {},
   "source": [
    "There are many `methods` in pandas. Some examples:"
   ]
  },
  {
   "cell_type": "code",
   "execution_count": null,
   "metadata": {},
   "outputs": [],
   "source": [
    "codon_df.reset_index() #resets the index\n"
   ]
  },
  {
   "cell_type": "code",
   "execution_count": null,
   "metadata": {},
   "outputs": [],
   "source": [
    "codon_df.reset_index().set_index('aa1') #index by a different value"
   ]
  },
  {
   "cell_type": "code",
   "execution_count": null,
   "metadata": {},
   "outputs": [],
   "source": [
    "grp = codon_df.groupby('aa3') #group by a value\n",
    "print(grp)\n",
    "grp.get_group('Ala') #retrieve one value"
   ]
  },
  {
   "cell_type": "code",
   "execution_count": null,
   "metadata": {},
   "outputs": [],
   "source": [
    "for name, group in codon_df.groupby(['aa3']):\n",
    "    print(name, list(group.index), len(group.index))"
   ]
  },
  {
   "cell_type": "markdown",
   "metadata": {},
   "source": [
    "Now, let's load a new, more complex data set! Groundhog day observations! \n",
    "\n",
    "![image.png](https://www.almanac.com/sites/default/files/styles/primary_image_in_article/public/image_nodes/groundhog-day.jpg?itok=hzIHRUoK)"
   ]
  },
  {
   "cell_type": "code",
   "execution_count": null,
   "metadata": {},
   "outputs": [],
   "source": [
    "ghog_df = pd.read_csv('data/groundhog.csv')"
   ]
  },
  {
   "cell_type": "code",
   "execution_count": null,
   "metadata": {},
   "outputs": [],
   "source": [
    "ghog_df.head(n=10) "
   ]
  },
  {
   "cell_type": "markdown",
   "metadata": {},
   "source": [
    "There are a lot of `NaN` values -- there are many built in methods to deal with this. "
   ]
  },
  {
   "cell_type": "code",
   "execution_count": null,
   "metadata": {},
   "outputs": [],
   "source": [
    "ghog_df.dropna() #drops nans"
   ]
  },
  {
   "cell_type": "code",
   "execution_count": null,
   "metadata": {},
   "outputs": [],
   "source": [
    "ghog_df.fillna(0) #fills na values with a different value. "
   ]
  },
  {
   "cell_type": "code",
   "execution_count": null,
   "metadata": {},
   "outputs": [],
   "source": [
    "ghog_df_clean = ghog_df.dropna() "
   ]
  },
  {
   "cell_type": "code",
   "execution_count": null,
   "metadata": {},
   "outputs": [],
   "source": [
    "ghog_df_clean['difference'] = ghog_df_clean['March Average Temperature']-ghog_df_clean['February Average Temperature']"
   ]
  },
  {
   "cell_type": "code",
   "execution_count": null,
   "metadata": {
    "scrolled": false
   },
   "outputs": [],
   "source": [
    "ghog_df_clean"
   ]
  },
  {
   "cell_type": "markdown",
   "metadata": {},
   "source": [
    "## Basic statistics! "
   ]
  },
  {
   "cell_type": "code",
   "execution_count": null,
   "metadata": {},
   "outputs": [],
   "source": [
    "ghog_df_clean.mean()"
   ]
  },
  {
   "cell_type": "code",
   "execution_count": null,
   "metadata": {},
   "outputs": [],
   "source": [
    "ghog_df_clean.median()"
   ]
  },
  {
   "cell_type": "code",
   "execution_count": null,
   "metadata": {},
   "outputs": [],
   "source": [
    "ghog_df_clean.describe()"
   ]
  },
  {
   "cell_type": "code",
   "execution_count": null,
   "metadata": {},
   "outputs": [],
   "source": [
    "ghog_grps = ghog_df_clean.groupby('Punxsutawney Phil')\n",
    "full = ghog_grps.get_group('Full Shadow')\n",
    "nosha = ghog_grps.get_group('No Shadow')"
   ]
  },
  {
   "cell_type": "code",
   "execution_count": null,
   "metadata": {},
   "outputs": [],
   "source": [
    "stats={}\n",
    "for name, ggrp in ghog_grps:\n",
    "    stats[name] = ggrp.describe().head()"
   ]
  },
  {
   "cell_type": "code",
   "execution_count": null,
   "metadata": {},
   "outputs": [],
   "source": [
    "stats['Full Shadow']"
   ]
  },
  {
   "cell_type": "code",
   "execution_count": null,
   "metadata": {},
   "outputs": [],
   "source": [
    "stats['No Shadow']"
   ]
  },
  {
   "cell_type": "markdown",
   "metadata": {},
   "source": [
    "# Plots in python"
   ]
  },
  {
   "cell_type": "markdown",
   "metadata": {},
   "source": [
    "### Plotting libraries in python\n",
    "Almost everything in python is based off of Matplotlib -- a plotting library that is based loosely off of matlab. Pandas and seaborn both are/have wrappers around this basic python library and are useful for making nicer looking plots with fewer lines of code. Within `matplotlib` `pyplot` is the most commonly used module. "
   ]
  },
  {
   "attachments": {},
   "cell_type": "markdown",
   "metadata": {},
   "source": [
    "![image.png](https://files.realpython.com/media/fig_map.bc8c7cabd823.png)"
   ]
  },
  {
   "cell_type": "code",
   "execution_count": null,
   "metadata": {},
   "outputs": [],
   "source": [
    "import matplotlib.pyplot as plt"
   ]
  },
  {
   "cell_type": "code",
   "execution_count": null,
   "metadata": {},
   "outputs": [],
   "source": [
    "fig, ax = plt.subplots(1) #initalize an empty figure and axis handle. \n"
   ]
  },
  {
   "cell_type": "code",
   "execution_count": null,
   "metadata": {},
   "outputs": [],
   "source": [
    "fig, ax = plt.subplots(1) #initalize an empty figure and axis handle. \n",
    "ax.plot(ghog_df['Year'], ghog_df['February Average Temperature'])\n"
   ]
  },
  {
   "cell_type": "code",
   "execution_count": null,
   "metadata": {},
   "outputs": [],
   "source": [
    "fig, ax = plt.subplots(1) #initalize an empty figure and axis handle. \n",
    "ax.plot(ghog_df['Year'], ghog_df['February Average Temperature'])\n",
    "ax.plot(ghog_df['Year'], ghog_df['March Average Temperature'], color = 'orange')\n",
    "ax.set_xticks(np.arange(1890,2020,20))"
   ]
  },
  {
   "cell_type": "code",
   "execution_count": null,
   "metadata": {},
   "outputs": [],
   "source": [
    "fig, axs = plt.subplots(2)"
   ]
  },
  {
   "cell_type": "code",
   "execution_count": null,
   "metadata": {},
   "outputs": [],
   "source": [
    "fig, axs = plt.subplots(2) #initalize an empty figure and axis handle. \n",
    "fig.set_size_inches(8,8)\n",
    "axs[0].plot(ghog_df['Year'], ghog_df['February Average Temperature'])\n",
    "axs[0].plot(ghog_df['Year'], ghog_df['March Average Temperature'], color = 'orange')\n",
    "axs[1].hist(ghog_df['February Average Temperature'],alpha=0.6)\n",
    "axs[1].hist(ghog_df['March Average Temperature'], color='orange',alpha=0.6)\n",
    "axs[0].set_xticks(np.arange(1890,2020,20))"
   ]
  },
  {
   "cell_type": "code",
   "execution_count": null,
   "metadata": {},
   "outputs": [],
   "source": [
    "fig, axs = plt.subplots(2) #initalize an empty figure and axis handle. \n",
    "fig.set_size_inches(8,8)\n",
    "axs[0].plot(ghog_df['Year'], ghog_df['February Average Temperature'])\n",
    "axs[0].plot(ghog_df['Year'], ghog_df['March Average Temperature'], color = 'orange')\n",
    "axs[1].hist(ghog_df['February Average Temperature'],alpha=0.6)\n",
    "axs[1].hist(ghog_df['March Average Temperature'], color='orange',alpha=0.6)\n",
    "axs[0].set_xticks(np.arange(1890,2020,20))\n"
   ]
  },
  {
   "cell_type": "markdown",
   "metadata": {},
   "source": [
    "### Built in plotting with pandas"
   ]
  },
  {
   "cell_type": "code",
   "execution_count": null,
   "metadata": {},
   "outputs": [],
   "source": [
    "ghog_df_clean.plot(kind='scatter', x='February Average Temperature', y='March Average Temperature', c= 'Year')"
   ]
  },
  {
   "cell_type": "code",
   "execution_count": null,
   "metadata": {},
   "outputs": [],
   "source": [
    "ghog_grp = ghog_df_clean.groupby('Punxsutawney Phil')\n",
    "ghog_grp.get_group('No Shadow').plot(x='Year', y='difference', kind='scatter', color='black')\n",
    "ghog_grp.get_group('Full Shadow').plot(x='Year', y='difference', kind='scatter', color='black')"
   ]
  },
  {
   "cell_type": "code",
   "execution_count": null,
   "metadata": {},
   "outputs": [],
   "source": [
    "fig, ax =plt.subplots(1)\n",
    "ghog_grp = ghog_df_clean.groupby('Punxsutawney Phil')\n",
    "ghog_grp.get_group('No Shadow').plot(x='Year', y='difference', kind='scatter', color='orange', ax = ax)\n",
    "ghog_grp.get_group('Full Shadow').plot(x='Year', y='difference', kind='scatter', color='black', ax = ax)"
   ]
  },
  {
   "cell_type": "code",
   "execution_count": null,
   "metadata": {},
   "outputs": [],
   "source": [
    "sns.swarmplot(data = ghog_df_clean, x= 'Punxsutawney Phil', y='difference')"
   ]
  },
  {
   "cell_type": "code",
   "execution_count": null,
   "metadata": {},
   "outputs": [],
   "source": [
    "sns.relplot(data = ghog_df_clean, x= 'February Average Temperature', y='March Average Temperature', \n",
    "           hue = 'Punxsutawney Phil', size = 'difference', alpha=.5, palette=\"bright\", sizes=(40, 400))"
   ]
  },
  {
   "cell_type": "markdown",
   "metadata": {},
   "source": [
    "## OTU Tables\n",
    "\n",
    "Data from: Suter et al. 2017. Free-living chemoautotrophic and particle-attachedheterotrophic prokaryotes dominate microbialassemblages along a pelagic redox gradient. Environmental Microbiology. "
   ]
  },
  {
   "cell_type": "markdown",
   "metadata": {},
   "source": [
    "### A key for the sample coding: \n",
    "- AB2 = number of the Niskin cast (the same of all)\n",
    "- a or b = biological replicate a or b\n",
    "- 143: depth in meters\n",
    "- A or B: Particle-associated (A: 250-2.7um) or Free-living (B:2.7-0.2um)"
   ]
  },
  {
   "cell_type": "code",
   "execution_count": null,
   "metadata": {},
   "outputs": [],
   "source": [
    "otu_df = pd.read_csv('data/Cariaco_OTU.csv')"
   ]
  },
  {
   "cell_type": "code",
   "execution_count": null,
   "metadata": {},
   "outputs": [],
   "source": [
    "otu_df = pd.read_csv('data/Cariaco_OTU.csv', index_col=0)"
   ]
  },
  {
   "cell_type": "code",
   "execution_count": null,
   "metadata": {},
   "outputs": [],
   "source": [
    "otu_df.columns"
   ]
  },
  {
   "cell_type": "code",
   "execution_count": null,
   "metadata": {},
   "outputs": [],
   "source": [
    "otu_df.index"
   ]
  },
  {
   "cell_type": "code",
   "execution_count": null,
   "metadata": {},
   "outputs": [],
   "source": [
    "otu_df.head()"
   ]
  },
  {
   "cell_type": "code",
   "execution_count": null,
   "metadata": {},
   "outputs": [],
   "source": [
    "ax = otu_df.head().plot(kind='bar', stacked=True, legend = 'left')\n",
    "ax.get_legend().set_bbox_to_anchor((1,1))"
   ]
  },
  {
   "cell_type": "code",
   "execution_count": null,
   "metadata": {},
   "outputs": [],
   "source": [
    "ax = otu_df.T.head().plot(kind='bar', stacked=True, legend = 'left')\n",
    "ax.get_legend().set_bbox_to_anchor((1,1))"
   ]
  },
  {
   "cell_type": "markdown",
   "metadata": {},
   "source": [
    "# Parsing taxonomy! "
   ]
  },
  {
   "cell_type": "code",
   "execution_count": null,
   "metadata": {},
   "outputs": [],
   "source": [
    "otu_df.taxonomy.str.split(';').str[1]"
   ]
  },
  {
   "cell_type": "code",
   "execution_count": null,
   "metadata": {},
   "outputs": [],
   "source": [
    "otu_df['class']=otu_df.taxonomy.str.split(';').str[1]"
   ]
  },
  {
   "cell_type": "code",
   "execution_count": null,
   "metadata": {},
   "outputs": [],
   "source": [
    "otu_df.groupby('class').sum()"
   ]
  },
  {
   "cell_type": "code",
   "execution_count": null,
   "metadata": {},
   "outputs": [],
   "source": [
    "ax = otu_df.groupby('class').sum().T.plot(kind='bar', stacked=True)\n",
    "ax.get_legend().set_bbox_to_anchor((1,1))"
   ]
  },
  {
   "cell_type": "code",
   "execution_count": null,
   "metadata": {},
   "outputs": [],
   "source": [
    "# Calculate Bray Curtis distance between samples"
   ]
  },
  {
   "cell_type": "code",
   "execution_count": null,
   "metadata": {},
   "outputs": [],
   "source": [
    "df = otu_df\n",
    "df = df.drop(['taxonomy', 'class'], axis =1 )"
   ]
  },
  {
   "cell_type": "code",
   "execution_count": null,
   "metadata": {},
   "outputs": [],
   "source": [
    "df_norm = df / df.sum()"
   ]
  },
  {
   "cell_type": "code",
   "execution_count": null,
   "metadata": {},
   "outputs": [],
   "source": [
    "from scipy.spatial.distance import squareform, pdist, braycurtis"
   ]
  },
  {
   "cell_type": "code",
   "execution_count": null,
   "metadata": {},
   "outputs": [],
   "source": [
    "bc_distance = pd.DataFrame(squareform(pdist(df_norm.T), 'braycurtis'), index=df.columns, columns=df.columns)\n"
   ]
  },
  {
   "cell_type": "code",
   "execution_count": null,
   "metadata": {},
   "outputs": [],
   "source": [
    "sns.clustermap(bc_distance)"
   ]
  },
  {
   "cell_type": "code",
   "execution_count": null,
   "metadata": {},
   "outputs": [],
   "source": []
  }
 ],
 "metadata": {
  "kernelspec": {
   "display_name": "Python 3",
   "language": "python",
   "name": "python3"
  },
  "language_info": {
   "codemirror_mode": {
    "name": "ipython",
    "version": 3
   },
   "file_extension": ".py",
   "mimetype": "text/x-python",
   "name": "python",
   "nbconvert_exporter": "python",
   "pygments_lexer": "ipython3",
   "version": "3.6.9"
  }
 },
 "nbformat": 4,
 "nbformat_minor": 2
}
